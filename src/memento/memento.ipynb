{
 "cells": [
  {
   "cell_type": "code",
   "execution_count": 1,
   "metadata": {},
   "outputs": [],
   "source": [
    "from datetime import datetime as dt\n",
    "import copy\n",
    "import abc"
   ]
  },
  {
   "cell_type": "code",
   "execution_count": 2,
   "metadata": {},
   "outputs": [],
   "source": [
    "def ast():\n",
    "    print('-' * 75)"
   ]
  },
  {
   "cell_type": "markdown",
   "metadata": {},
   "source": [
    "## Originador\n",
    "\n",
    "O originador é o objeto que possui seus métodos específicos com o complemento das funções de salvar e restaurar."
   ]
  },
  {
   "cell_type": "code",
   "execution_count": 3,
   "metadata": {},
   "outputs": [],
   "source": [
    "class OriginadorAbstratato(abc.ABC):\n",
    "\n",
    "    @abc.abstractclassmethod\n",
    "    def salvar(self):\n",
    "        '''\n",
    "            Método responsável por chamar os métodos do objeto zelador onde será salvo o estado atual do objeto Originador.\n",
    "        '''\n",
    "        pass\n",
    "\n",
    "    @abc.abstractclassmethod\n",
    "    def restaurar(self):\n",
    "        '''\n",
    "            Método responsável por chamar os métodos do objeto zelador que retornará o estado anterior do objeto Originador, onde será possível realizar a restauração.\n",
    "        '''\n",
    "        pass"
   ]
  },
  {
   "cell_type": "code",
   "execution_count": 4,
   "metadata": {},
   "outputs": [],
   "source": [
    "class Originador(OriginadorAbstratato):\n",
    "\n",
    "    def __init__(self, expressao):\n",
    "        self._expressao = expressao\n",
    "        self._zelador = Zelador()\n",
    "    \n",
    "    # ----- Propertys e Setters --------- #\n",
    "\n",
    "    @property\n",
    "    def expressao(self):\n",
    "        return self._expressao\n",
    "\n",
    "    @expressao.setter\n",
    "    def expressao(self, expressao):\n",
    "        self._expressao = expressao\n",
    "\n",
    "    @property\n",
    "    def zelador(self):\n",
    "        return self._zelador\n",
    "\n",
    "    @zelador.setter\n",
    "    def zelador(self, zelador):\n",
    "        self._zelador = zelador\n",
    "\n",
    "    # ------------- Métodos da Expressao -------------- #\n",
    "       \n",
    "    def preencher(self, lista, result):\n",
    "        self.expressao = f'{result}'\n",
    "        for i in range(3, len(lista)):\n",
    "            self.expressao = (f'{self.expressao} {lista[i]}')\n",
    "\n",
    "    def calcular(self, a, sinal, b):\n",
    "        return (a + b) if sinal == '+' else (a - b) \n",
    "\n",
    "    def resolver(self):\n",
    "        lista = self.expressao.split(' ') # Organizo tudo em uma lista\n",
    "        if len(lista) > 1:\n",
    "            self.salvar(f'Antes de ser resolvido a operacao {lista[0]} {lista[1]} {lista[2]}')\n",
    "            result = self.calcular( int(lista[0]), lista[1], int(lista[2]) )\n",
    "            self.preencher(lista, result)\n",
    "            retorno = True\n",
    "        else:\n",
    "            retorno = False\n",
    "        return retorno\n",
    "    \n",
    "    def resolverTudo(self):\n",
    "        while self.resolver() == True: \n",
    "            pass\n",
    "\n",
    "    def adicionar(self, sinal, valor):\n",
    "        d = f'Antes de ser adicionado: {sinal} {valor} a expressao'\n",
    "        self.salvar(d)\n",
    "        self.expressao += (f' {sinal} {valor}')\n",
    "        \n",
    "    # 100 + 200 + 300\n",
    "    # ------------- Métodos do estado -------------- #\n",
    "\n",
    "    def salvar(self, descricao):\n",
    "        a = Memento(self, descricao)\n",
    "        self.zelador.salvar( a ) # Salva uma cópia do estado atual do Originador no zelador.\n",
    "\n",
    "    def restaurar(self):\n",
    "        ant = self.zelador.restaurar()\n",
    "        if ant != False:\n",
    "            self.expressao = ant.expressao\n",
    "        else:\n",
    "            print('Você está no memento inicial.')"
   ]
  },
  {
   "cell_type": "markdown",
   "metadata": {},
   "source": [
    "## Memento\n",
    "\n",
    "O memento é o objeto que faz uma cópia do estado atual do objeto originador."
   ]
  },
  {
   "cell_type": "code",
   "execution_count": 5,
   "metadata": {},
   "outputs": [],
   "source": [
    "class Memento():\n",
    "\n",
    "    def __init__(self, estado, descricao):\n",
    "        self._estado = copy.deepcopy(estado)\n",
    "        self._descricao = descricao\n",
    "        self._data = dt.now()\n",
    "    \n",
    "    # -------- Propertys e Setters --------- #\n",
    "\n",
    "    @property\n",
    "    def estado(self):\n",
    "        return self._estado\n",
    "    \n",
    "    @estado.setter\n",
    "    def estado(self, estado):\n",
    "        self._estado = estado\n",
    "\n",
    "    @property\n",
    "    def descricao(self):\n",
    "        return self._descricao\n",
    "    \n",
    "    @descricao.setter\n",
    "    def descricao(self, descricao):\n",
    "        self._descricao = descricao\n",
    "\n",
    "    @property\n",
    "    def data(self):\n",
    "        return self._data\n",
    "    \n",
    "    @data.setter\n",
    "    def data(self, data):\n",
    "        self._data = data"
   ]
  },
  {
   "cell_type": "markdown",
   "metadata": {},
   "source": [
    "## Zelador\n",
    "\n",
    "O zelador é o objeto que gerencia a pilha de mementos."
   ]
  },
  {
   "cell_type": "code",
   "execution_count": 6,
   "metadata": {},
   "outputs": [],
   "source": [
    "class ZeladorAbstrato(abc.ABC):\n",
    "    \n",
    "    @abc.abstractclassmethod\n",
    "    def salvar(self):\n",
    "        '''Método que salva um novo memento na pilha de mementos'''\n",
    "        pass\n",
    "\n",
    "    def restaurar(self):\n",
    "        '''Método que retorna o último, caso exista. Caso contrário retorna False.'''\n",
    "        pass\n",
    "\n",
    "    def historico(self):\n",
    "        '''Método que apresenta todos os mementos salvos na pilha de mementos;'''\n",
    "        pass\n"
   ]
  },
  {
   "cell_type": "code",
   "execution_count": 7,
   "metadata": {},
   "outputs": [],
   "source": [
    "class Zelador(ZeladorAbstrato):\n",
    "\n",
    "    def __init__(self):\n",
    "        self._mementos = []\n",
    "    \n",
    "    # ----- Propertys e Setters --------- #\n",
    "\n",
    "    @property\n",
    "    def mementos(self):\n",
    "        return self._mementos\n",
    "\n",
    "    @mementos.setter\n",
    "    def mementos(self, mementos):\n",
    "        self._mementos = mementos\n",
    "\n",
    "    # ---------- Métodos ---------------- #\n",
    "\n",
    "    def salvar(self, memento):\n",
    "        self.mementos.append(memento)\n",
    "\n",
    "    def restaurar(self):\n",
    "        # retorna o estado se ainda houver algum estado na pilha\n",
    "        # Senão: retorna False\n",
    "        if len(self.mementos) > 0:\n",
    "            r = self.mementos[ len(self.mementos) - 1 ].estado\n",
    "            self.mementos.pop()\n",
    "        else:\n",
    "            r = False\n",
    "        return r\n",
    "\n",
    "    def historico(self):\n",
    "        if len(self.mementos) > 0:\n",
    "            print('\\n'); ast(); print('Histórico:'); ast()\n",
    "            for i in range( len(self.mementos)-1, -1, -1):\n",
    "                print(f'Memento:........{i+1}º'); \n",
    "                print(f'Data:...........{self.mementos[i].data.date()} {self.mementos[i].data.time()}')\n",
    "                print(f'Descricao:......{self.mementos[i].descricao}')\n",
    "                print(f'Expressao:......{self.mementos[i].estado.expressao}'); ast()\n",
    "        else:\n",
    "            print('Não há mementos salvos.')\n",
    "        print()"
   ]
  },
  {
   "cell_type": "markdown",
   "metadata": {},
   "source": [
    "## Testes"
   ]
  },
  {
   "cell_type": "code",
   "execution_count": 8,
   "metadata": {},
   "outputs": [
    {
     "data": {
      "text/plain": [
       "'100 + 200 - 300 + 400 - 500'"
      ]
     },
     "execution_count": 8,
     "metadata": {},
     "output_type": "execute_result"
    }
   ],
   "source": [
    "# Criação do originador\n",
    "expressao = Originador('100 + 200 - 300 + 400 - 500')\n",
    "expressao.expressao"
   ]
  },
  {
   "cell_type": "code",
   "execution_count": 9,
   "metadata": {},
   "outputs": [
    {
     "name": "stdout",
     "output_type": "stream",
     "text": [
      "\n",
      " 100 + 200 - 300 + 400 - 500 + 2000\n",
      "\n",
      "\n",
      "---------------------------------------------------------------------------\n",
      "Histórico:\n",
      "---------------------------------------------------------------------------\n",
      "Memento:........1º\n",
      "Data:...........2022-03-24 07:04:59.005855\n",
      "Descricao:......Antes de ser adicionado: + 2000 a expressao\n",
      "Expressao:......100 + 200 - 300 + 400 - 500\n",
      "---------------------------------------------------------------------------\n",
      "\n"
     ]
    }
   ],
   "source": [
    "# Adicionar um novo sinal e valor na expressão\n",
    "expressao.adicionar('+','2000')\n",
    "print('\\n', expressao.expressao)\n",
    "expressao.zelador.historico()"
   ]
  },
  {
   "cell_type": "code",
   "execution_count": 10,
   "metadata": {},
   "outputs": [
    {
     "name": "stdout",
     "output_type": "stream",
     "text": [
      "\n",
      " 300 - 300 + 400 - 500 + 2000\n",
      "\n",
      "\n",
      "---------------------------------------------------------------------------\n",
      "Histórico:\n",
      "---------------------------------------------------------------------------\n",
      "Memento:........2º\n",
      "Data:...........2022-03-24 07:04:59.054094\n",
      "Descricao:......Antes de ser resolvido a operacao 100 + 200\n",
      "Expressao:......100 + 200 - 300 + 400 - 500 + 2000\n",
      "---------------------------------------------------------------------------\n",
      "Memento:........1º\n",
      "Data:...........2022-03-24 07:04:59.005855\n",
      "Descricao:......Antes de ser adicionado: + 2000 a expressao\n",
      "Expressao:......100 + 200 - 300 + 400 - 500\n",
      "---------------------------------------------------------------------------\n",
      "\n"
     ]
    }
   ],
   "source": [
    "# Resolver dois termos da expressão\n",
    "expressao.resolver()\n",
    "print('\\n', expressao.expressao)\n",
    "expressao.zelador.historico()"
   ]
  },
  {
   "cell_type": "code",
   "execution_count": 11,
   "metadata": {},
   "outputs": [
    {
     "name": "stdout",
     "output_type": "stream",
     "text": [
      "\n",
      "Expressão:  100 + 200 - 300 + 400 - 500 + 2000\n",
      "\n",
      "\n",
      "---------------------------------------------------------------------------\n",
      "Histórico:\n",
      "---------------------------------------------------------------------------\n",
      "Memento:........1º\n",
      "Data:...........2022-03-24 07:04:59.005855\n",
      "Descricao:......Antes de ser adicionado: + 2000 a expressao\n",
      "Expressao:......100 + 200 - 300 + 400 - 500\n",
      "---------------------------------------------------------------------------\n",
      "\n"
     ]
    }
   ],
   "source": [
    "expressao.restaurar()\n",
    "print('\\nExpressão: ', expressao.expressao)\n",
    "expressao.zelador.historico()"
   ]
  },
  {
   "cell_type": "code",
   "execution_count": 12,
   "metadata": {},
   "outputs": [
    {
     "name": "stdout",
     "output_type": "stream",
     "text": [
      "\n",
      "Expressão:  100 + 200 - 300 + 400 - 500\n",
      "Não há mementos salvos.\n",
      "\n"
     ]
    }
   ],
   "source": [
    "expressao.restaurar()\n",
    "print('\\nExpressão: ', expressao.expressao)\n",
    "expressao.zelador.historico()"
   ]
  },
  {
   "cell_type": "code",
   "execution_count": 13,
   "metadata": {},
   "outputs": [
    {
     "name": "stdout",
     "output_type": "stream",
     "text": [
      "Você está no memento inicial.\n"
     ]
    }
   ],
   "source": [
    "expressao.restaurar()"
   ]
  }
 ],
 "metadata": {
  "interpreter": {
   "hash": "916dbcbb3f70747c44a77c7bcd40155683ae19c65e1c03b4aa3499c5328201f1"
  },
  "kernelspec": {
   "display_name": "Python 3 (ipykernel)",
   "language": "python",
   "name": "python3"
  },
  "language_info": {
   "codemirror_mode": {
    "name": "ipython",
    "version": 3
   },
   "file_extension": ".py",
   "mimetype": "text/x-python",
   "name": "python",
   "nbconvert_exporter": "python",
   "pygments_lexer": "ipython3",
   "version": "3.8.10"
  }
 },
 "nbformat": 4,
 "nbformat_minor": 2
}

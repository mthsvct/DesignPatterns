{
 "cells": [
  {
   "cell_type": "code",
   "execution_count": 1,
   "id": "587e0666",
   "metadata": {},
   "outputs": [],
   "source": [
    "import abc"
   ]
  },
  {
   "cell_type": "markdown",
   "id": "734ca9ad",
   "metadata": {},
   "source": [
    "## Template Method"
   ]
  },
  {
   "cell_type": "code",
   "execution_count": 2,
   "id": "f5ea61e8",
   "metadata": {},
   "outputs": [],
   "source": [
    "class Cozinha(abc.ABC):\n",
    "\n",
    "    # Essa é a classe mãe\n",
    "\n",
    "    def preparar(self):\n",
    "        # Este é o template method!\n",
    "        print(f\"Preparo de {self.nome}:\")\n",
    "        self.ferverAgua()\n",
    "        self.colocarIngredientes()\n",
    "        self.hook1()\n",
    "        self.colocarEmRecipiente()\n",
    "        self.hook2()\n",
    "        self.colocarComplemento()\n",
    "        print()\n",
    "\n",
    "    # ----------------- Métodos que são iguais nas sub-classes ------------------------ #\n",
    "\n",
    "    def ferverAgua(self):\n",
    "        print(\"\\n\\t- Água fervendo!\")\n",
    "    \n",
    "    def colocarIngredientes(self):\n",
    "        print(f\"\\n\\t- Colocando {self.nome} na água fervendo.\")\n",
    "\n",
    "    def colocarEmRecipiente(self):\n",
    "        print(f\"\\n\\t- Colocado em um(a) {self.recipiente}!\")\n",
    "    \n",
    "\n",
    "    # ------- Métodos que necessitam da implementação espefica em cada subclasse ----------- #\n",
    "    \n",
    "    @abc.abstractclassmethod\n",
    "    def colocarComplemento(self):\n",
    "        pass\n",
    "\n",
    "    # ------- Métodos opcionais (Hooks), as sub-classes podem optar por ignorar ou implementar. ------ #\n",
    "    def hook1(self):\n",
    "        pass\n",
    "    \n",
    "    def hook2(self):\n",
    "        pass"
   ]
  },
  {
   "cell_type": "markdown",
   "id": "daab9304",
   "metadata": {},
   "source": [
    "### Sub-Classes"
   ]
  },
  {
   "cell_type": "code",
   "execution_count": 3,
   "id": "9e5744a0",
   "metadata": {},
   "outputs": [],
   "source": [
    "class Cafe(Cozinha):\n",
    "\n",
    "    def __init__(self) -> None:\n",
    "        self._nome = \"Café\"\n",
    "        self._recipiente = \"Xícara\"\n",
    "\n",
    "    @property\n",
    "    def nome(self):\n",
    "        return self._nome\n",
    "        \n",
    "    @property\n",
    "    def recipiente(self):\n",
    "        return self._recipiente\n",
    "\n",
    "    # ---------------------------- #\n",
    "    # ---------------------------- #\n",
    "    # --------- Métodos ---------- #\n",
    "\n",
    "    def colocarComplemento(self):\n",
    "        print(\"\\n\\t- Acucar colocado!!\")"
   ]
  },
  {
   "cell_type": "code",
   "execution_count": 4,
   "id": "114021ad",
   "metadata": {},
   "outputs": [],
   "source": [
    "class Cha(Cozinha):\n",
    "\n",
    "    def __init__(self) -> None:\n",
    "        self._nome = \"Chá\"\n",
    "        self._recipiente = \"Xícara\"\n",
    "\n",
    "    @property\n",
    "    def nome(self):\n",
    "        return self._nome\n",
    "\n",
    "    @property\n",
    "    def recipiente(self):\n",
    "        return self._recipiente\n",
    "\n",
    "    # ---------------------------- #\n",
    "    # ---------------------------- #\n",
    "    # --------- Métodos ---------- #\n",
    "\n",
    "    def colocarComplemento(self):\n",
    "        print(\"\\n\\t- Limão colocado!!\")"
   ]
  },
  {
   "cell_type": "markdown",
   "id": "dfca4d57",
   "metadata": {},
   "source": [
    "### Main"
   ]
  },
  {
   "cell_type": "code",
   "execution_count": 5,
   "id": "6b2e5e2e",
   "metadata": {},
   "outputs": [],
   "source": [
    "cafe = Cafe()\n",
    "cha = Cha()"
   ]
  },
  {
   "cell_type": "code",
   "execution_count": 6,
   "id": "be95f038",
   "metadata": {},
   "outputs": [
    {
     "name": "stdout",
     "output_type": "stream",
     "text": [
      "Preparo de Café:\n",
      "\n",
      "\t- Água fervendo!\n",
      "\n",
      "\t- Colocando Café na água fervendo.\n",
      "\n",
      "\t- Colocado em um(a) Xícara!\n",
      "\n",
      "\t- Acucar colocado!!\n",
      "\n"
     ]
    }
   ],
   "source": [
    "cafe.preparar()"
   ]
  },
  {
   "cell_type": "code",
   "execution_count": 7,
   "id": "fcb6d7f7",
   "metadata": {},
   "outputs": [
    {
     "name": "stdout",
     "output_type": "stream",
     "text": [
      "Preparo de Chá:\n",
      "\n",
      "\t- Água fervendo!\n",
      "\n",
      "\t- Colocando Chá na água fervendo.\n",
      "\n",
      "\t- Colocado em um(a) Xícara!\n",
      "\n",
      "\t- Limão colocado!!\n",
      "\n"
     ]
    }
   ],
   "source": [
    "cha.preparar()"
   ]
  },
  {
   "cell_type": "markdown",
   "id": "40e83365",
   "metadata": {},
   "source": [
    "## Nova Sub-Classe: Sopa\n",
    "\n",
    "### Modo de Preparo:\n",
    "    1. Ferver um pouco de água.\n",
    "    2. Colocar os igredientes na água fervente,\n",
    "    3. Ficar mexendo com uma colher enquanto os ingredientes cozinham... \n",
    "    4. Servir a sopa em um prato.\n",
    "    5. Perguntar ao usuário se ele deseja o complemento pães;\n",
    "    6. Colocar pães, caso o usuário aceite.\n"
   ]
  },
  {
   "cell_type": "code",
   "execution_count": 8,
   "id": "87470b62",
   "metadata": {},
   "outputs": [],
   "source": [
    "class Sopa(Cozinha):\n",
    "    \n",
    "    def __init__(self) -> None:\n",
    "        self._nome = \"Sopa\"\n",
    "        self._recipiente = \"Prato\"\n",
    "        self._complemento = ''\n",
    "    \n",
    "    @property\n",
    "    def nome(self):\n",
    "        return self._nome\n",
    "\n",
    "    @property\n",
    "    def recipiente(self):\n",
    "        return self._recipiente\n",
    "\n",
    "    @property\n",
    "    def complemento(self):\n",
    "        return self._complemento\n",
    "\n",
    "    @complemento.setter\n",
    "    def complemento(self, complemento):\n",
    "        self._complemento = complemento\n",
    "    \n",
    "    # ---------------------------- #\n",
    "    # ---------------------------- #\n",
    "    # --------- Métodos ---------- #\n",
    "\n",
    "    def hook1(self):\n",
    "        print(\"\\n\\t- Ficar mexendo com uma colher enquanto os ingredientes cozinham...\")\n",
    "    \n",
    "    def hook2(self):\n",
    "        self.complemento = input(\"\\n\\t- Deseja o complemento 'Pães' (S/N)? \").upper()\n",
    "        \n",
    "    def colocarComplemento(self):\n",
    "        if self.complemento == 'S':\n",
    "            print(\"\\n\\t- Pães Adicionados!!\")"
   ]
  },
  {
   "cell_type": "code",
   "execution_count": 9,
   "id": "5571e1b5",
   "metadata": {},
   "outputs": [],
   "source": [
    "sopa = Sopa()"
   ]
  },
  {
   "cell_type": "code",
   "execution_count": 11,
   "id": "ea9d1339",
   "metadata": {},
   "outputs": [
    {
     "name": "stdout",
     "output_type": "stream",
     "text": [
      "Preparo de Sopa:\n",
      "\n",
      "\t- Água fervendo!\n",
      "\n",
      "\t- Colocando Sopa na água fervendo.\n",
      "\n",
      "\t- Ficar mexendo com uma colher enquanto os ingredientes cozinham...\n",
      "\n",
      "\t- Colocado em um(a) Prato!\n",
      "\n",
      "\t- Deseja o complemento 'Pães' (S/N)? n\n",
      "\n"
     ]
    }
   ],
   "source": [
    "sopa.preparar()"
   ]
  },
  {
   "cell_type": "code",
   "execution_count": null,
   "id": "12c48550",
   "metadata": {},
   "outputs": [],
   "source": []
  }
 ],
 "metadata": {
  "kernelspec": {
   "display_name": "Python 3 (ipykernel)",
   "language": "python",
   "name": "python3"
  },
  "language_info": {
   "codemirror_mode": {
    "name": "ipython",
    "version": 3
   },
   "file_extension": ".py",
   "mimetype": "text/x-python",
   "name": "python",
   "nbconvert_exporter": "python",
   "pygments_lexer": "ipython3",
   "version": "3.8.10"
  }
 },
 "nbformat": 4,
 "nbformat_minor": 5
}
